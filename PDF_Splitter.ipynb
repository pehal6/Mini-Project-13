{
  "nbformat": 4,
  "nbformat_minor": 0,
  "metadata": {
    "colab": {
      "provenance": []
    },
    "kernelspec": {
      "name": "python3",
      "display_name": "Python 3"
    },
    "language_info": {
      "name": "python"
    }
  },
  "cells": [
    {
      "cell_type": "markdown",
      "source": [
        "# PDF splitter"
      ],
      "metadata": {
        "id": "2IwC-_o-OkBF"
      }
    },
    {
      "cell_type": "code",
      "execution_count": 1,
      "metadata": {
        "colab": {
          "base_uri": "https://localhost:8080/"
        },
        "id": "gtpWXzgUTf87",
        "outputId": "227a0a53-3267-442f-fabf-09eed1505eab"
      },
      "outputs": [
        {
          "output_type": "stream",
          "name": "stdout",
          "text": [
            "Collecting PyPDF2\n",
            "  Downloading pypdf2-3.0.1-py3-none-any.whl.metadata (6.8 kB)\n",
            "Downloading pypdf2-3.0.1-py3-none-any.whl (232 kB)\n",
            "\u001b[2K   \u001b[90m━━━━━━━━━━━━━━━━━━━━━━━━━━━━━━━━━━━━━━━━\u001b[0m \u001b[32m232.6/232.6 kB\u001b[0m \u001b[31m6.1 MB/s\u001b[0m eta \u001b[36m0:00:00\u001b[0m\n",
            "\u001b[?25hInstalling collected packages: PyPDF2\n",
            "Successfully installed PyPDF2-3.0.1\n"
          ]
        }
      ],
      "source": [
        "!pip install PyPDF2"
      ]
    },
    {
      "cell_type": "code",
      "source": [
        "import os\n",
        "from PyPDF2 import PdfReader, PdfWriter\n",
        "\n",
        "def split_pdf(input_pdf, output_dir, split_page):\n",
        "    if not os.path.exists(output_dir):\n",
        "        os.makedirs(output_dir)\n",
        "\n",
        "    pdf = PdfReader(input_pdf)\n",
        "    total_pages = len(pdf.pages)\n",
        "\n",
        "    if split_page < 1 or split_page >= total_pages:\n",
        "        raise ValueError(\"Split page number must be between 1 and the total number of pages minus one.\")\n",
        "\n",
        "    part1_writer = PdfWriter()\n",
        "    part2_writer = PdfWriter()\n",
        "\n",
        "    for page_num in range(total_pages):\n",
        "        if page_num < split_page:\n",
        "            part1_writer.add_page(pdf.pages[page_num])\n",
        "        else:\n",
        "            part2_writer.add_page(pdf.pages[page_num])\n",
        "\n",
        "    # Save the two parts\n",
        "    part1_filename = os.path.join(output_dir, 'part1.pdf')\n",
        "    part2_filename = os.path.join(output_dir, 'part2.pdf')\n",
        "\n",
        "    with open(part1_filename, 'wb') as part1_pdf:\n",
        "        part1_writer.write(part1_pdf)\n",
        "\n",
        "    with open(part2_filename, 'wb') as part2_pdf:\n",
        "        part2_writer.write(part2_pdf)\n",
        "\n",
        "    print(f'Created: {part1_filename}')\n",
        "    print(f'Created: {part2_filename}')\n",
        "\n",
        "if __name__ == \"__main__\":\n",
        "    input_pdf = '/content/PDF.pdf'          # ✅ actual file in sidebar\n",
        "    output_dir = '/content/output'          # ✅ correct folder\n",
        "    split_page = int(input(\"Enter the page number where you want to split the PDF: \"))\n",
        "    split_pdf(input_pdf, output_dir, split_page)\n"
      ],
      "metadata": {
        "colab": {
          "base_uri": "https://localhost:8080/"
        },
        "id": "GBkQijI1Tjum",
        "outputId": "78292a53-2609-4ec9-dc8d-cf1a6909d870"
      },
      "execution_count": 9,
      "outputs": [
        {
          "output_type": "stream",
          "name": "stdout",
          "text": [
            "Enter the page number where you want to split the PDF: 5\n",
            "Created: /content/output/part1.pdf\n",
            "Created: /content/output/part2.pdf\n"
          ]
        }
      ]
    }
  ]
}